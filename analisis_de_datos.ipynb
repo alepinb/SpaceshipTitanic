{
 "cells": [
  {
   "cell_type": "markdown",
   "metadata": {},
   "source": [
    "## Cargar librerías"
   ]
  },
  {
   "cell_type": "code",
   "execution_count": 3,
   "metadata": {},
   "outputs": [],
   "source": [
    "import pandas as pd\n",
    "import numpy as np\n",
    "import seaborn as sns\n",
    "import matplotlib.pyplot as plt\n",
    "from sklearn.model_selection import train_test_split\n",
    "from sklearn.decomposition import PCA\n",
    "from sklearn.preprocessing import OneHotEncoder\n",
    "from sklearn.preprocessing import StandardScaler\n",
    "from sklearn.preprocessing import LabelEncoder\n",
    "from sklearn.impute import SimpleImputer\n",
    "import os\n",
    "from sklearn.preprocessing import StandardScaler, MinMaxScaler"
   ]
  },
  {
   "cell_type": "markdown",
   "metadata": {},
   "source": [
    "## Cargar datos y visualizar primeras filas del dataset train"
   ]
  },
  {
   "cell_type": "code",
   "execution_count": 14,
   "metadata": {},
   "outputs": [
    {
     "name": "stdout",
     "output_type": "stream",
     "text": [
      "  PassengerId HomePlanet CryoSleep  Cabin  Destination   Age    VIP  \\\n",
      "0     0001_01     Europa     False  B/0/P  TRAPPIST-1e  39.0  False   \n",
      "1     0002_01      Earth     False  F/0/S  TRAPPIST-1e  24.0  False   \n",
      "2     0003_01     Europa     False  A/0/S  TRAPPIST-1e  58.0   True   \n",
      "3     0003_02     Europa     False  A/0/S  TRAPPIST-1e  33.0  False   \n",
      "4     0004_01      Earth     False  F/1/S  TRAPPIST-1e  16.0  False   \n",
      "\n",
      "   RoomService  FoodCourt  ShoppingMall     Spa  VRDeck               Name  \\\n",
      "0          0.0        0.0           0.0     0.0     0.0    Maham Ofracculy   \n",
      "1        109.0        9.0          25.0   549.0    44.0       Juanna Vines   \n",
      "2         43.0     3576.0           0.0  6715.0    49.0      Altark Susent   \n",
      "3          0.0     1283.0         371.0  3329.0   193.0       Solam Susent   \n",
      "4        303.0       70.0         151.0   565.0     2.0  Willy Santantines   \n",
      "\n",
      "   Transported  \n",
      "0        False  \n",
      "1         True  \n",
      "2        False  \n",
      "3        False  \n",
      "4         True  \n"
     ]
    }
   ],
   "source": [
    "# Leer el csv y sacar por pantalla las cinco primeras filas.\n",
    "\n",
    "# Leer el archivo CSV\n",
    "df_train = pd.read_csv(r'C:\\Users\\Administrator\\Documents\\Proyecto Spaceship Titanic\\spaceship_titanic_proyecto\\Data\\spaceship-titanic\\train.csv')\n",
    "\n",
    "# Mostrar las primeras filas del archivo\n",
    "print(df_train.head())\n"
   ]
  },
  {
   "cell_type": "markdown",
   "metadata": {},
   "source": [
    "## Cargar datos y visualizar primeras filas del dataset test"
   ]
  },
  {
   "cell_type": "code",
   "execution_count": 15,
   "metadata": {},
   "outputs": [
    {
     "name": "stdout",
     "output_type": "stream",
     "text": [
      "  PassengerId HomePlanet CryoSleep  Cabin  Destination   Age    VIP  \\\n",
      "0     0013_01      Earth      True  G/3/S  TRAPPIST-1e  27.0  False   \n",
      "1     0018_01      Earth     False  F/4/S  TRAPPIST-1e  19.0  False   \n",
      "2     0019_01     Europa      True  C/0/S  55 Cancri e  31.0  False   \n",
      "3     0021_01     Europa     False  C/1/S  TRAPPIST-1e  38.0  False   \n",
      "4     0023_01      Earth     False  F/5/S  TRAPPIST-1e  20.0  False   \n",
      "\n",
      "   RoomService  FoodCourt  ShoppingMall     Spa  VRDeck              Name  \n",
      "0          0.0        0.0           0.0     0.0     0.0   Nelly Carsoning  \n",
      "1          0.0        9.0           0.0  2823.0     0.0    Lerome Peckers  \n",
      "2          0.0        0.0           0.0     0.0     0.0   Sabih Unhearfus  \n",
      "3          0.0     6652.0           0.0   181.0   585.0  Meratz Caltilter  \n",
      "4         10.0        0.0         635.0     0.0     0.0   Brence Harperez  \n"
     ]
    }
   ],
   "source": [
    "# Leer el csv y sacar por pantalla las cinco primeras filas.\n",
    "\n",
    "# Leer el archivo CSV\n",
    "df_test = pd.read_csv(r'C:\\Users\\Administrator\\Documents\\Proyecto Spaceship Titanic\\spaceship_titanic_proyecto\\Data\\spaceship-titanic\\test.csv')\n",
    "\n",
    "# Mostrar las primeras filas del archivo\n",
    "print(df_test.head())"
   ]
  },
  {
   "cell_type": "markdown",
   "metadata": {},
   "source": [
    "## Identificar si los conjuntos de datos (train.csv y test.csv) contienen valores nulos"
   ]
  },
  {
   "cell_type": "code",
   "execution_count": 20,
   "metadata": {},
   "outputs": [
    {
     "name": "stdout",
     "output_type": "stream",
     "text": [
      "Valores nulos en el conjunto de entrenamiento:\n",
      "HomePlanet      201\n",
      "CryoSleep       217\n",
      "Cabin           199\n",
      "Destination     182\n",
      "Age             179\n",
      "VIP             203\n",
      "RoomService     181\n",
      "FoodCourt       183\n",
      "ShoppingMall    208\n",
      "Spa             183\n",
      "VRDeck          188\n",
      "Name            200\n",
      "dtype: int64\n",
      "Valores nulos en el conjunto de prueba:\n",
      "HomePlanet       87\n",
      "CryoSleep        93\n",
      "Cabin           100\n",
      "Destination      92\n",
      "Age              91\n",
      "VIP              93\n",
      "RoomService      82\n",
      "FoodCourt       106\n",
      "ShoppingMall     98\n",
      "Spa             101\n",
      "VRDeck           80\n",
      "Name             94\n",
      "dtype: int64\n"
     ]
    }
   ],
   "source": [
    "# Verificar los valores nulos en el conjunto de entrenamiento\n",
    "nulos_train = df_train.isnull().sum()\n",
    "print(\"Valores nulos en el conjunto de entrenamiento:\")\n",
    "print(nulos_train[nulos_train > 0])\n",
    "\n",
    "# Verificar los valores nulos en el conjunto de prueba\n",
    "nulos_test = df_test.isnull().sum()\n",
    "print(\"Valores nulos en el conjunto de prueba:\")\n",
    "print(nulos_test[nulos_test > 0])\n"
   ]
  },
  {
   "cell_type": "markdown",
   "metadata": {},
   "source": [
    "# Tipos de variables en los dataset de train y test"
   ]
  },
  {
   "cell_type": "code",
   "execution_count": 21,
   "metadata": {},
   "outputs": [
    {
     "name": "stdout",
     "output_type": "stream",
     "text": [
      "PassengerId      object\n",
      "HomePlanet       object\n",
      "CryoSleep        object\n",
      "Cabin            object\n",
      "Destination      object\n",
      "Age             float64\n",
      "VIP              object\n",
      "RoomService     float64\n",
      "FoodCourt       float64\n",
      "ShoppingMall    float64\n",
      "Spa             float64\n",
      "VRDeck          float64\n",
      "Name             object\n",
      "Transported        bool\n",
      "dtype: object\n",
      "PassengerId      object\n",
      "HomePlanet       object\n",
      "CryoSleep        object\n",
      "Cabin            object\n",
      "Destination      object\n",
      "Age             float64\n",
      "VIP              object\n",
      "RoomService     float64\n",
      "FoodCourt       float64\n",
      "ShoppingMall    float64\n",
      "Spa             float64\n",
      "VRDeck          float64\n",
      "Name             object\n",
      "dtype: object\n"
     ]
    }
   ],
   "source": [
    "# Mostrar los tipos de cada columna\n",
    "print(df_train.dtypes)\n",
    "print(df_test.dtypes)"
   ]
  },
  {
   "cell_type": "markdown",
   "metadata": {},
   "source": [
    "# Imputar valores nulos \n",
    "Numéricas: imputar los valores faltantes en las columnas numéricas usando la media, mediana o algún otro valor estadístico.\n",
    "Categóricas: imputar los valores faltantes con la moda (valor más frecuente) o crear una nueva categoría para \"desconocido\".\n"
   ]
  },
  {
   "cell_type": "markdown",
   "metadata": {},
   "source": [
    "Primero para las variables numericas"
   ]
  },
  {
   "cell_type": "code",
   "execution_count": 22,
   "metadata": {},
   "outputs": [
    {
     "name": "stdout",
     "output_type": "stream",
     "text": [
      "Valores nulos en el conjunto de entrenamiento después de la imputación:\n",
      "PassengerId       0\n",
      "HomePlanet      201\n",
      "CryoSleep       217\n",
      "Cabin           199\n",
      "Destination     182\n",
      "Age               0\n",
      "VIP             203\n",
      "RoomService       0\n",
      "FoodCourt         0\n",
      "ShoppingMall      0\n",
      "Spa               0\n",
      "VRDeck            0\n",
      "Name            200\n",
      "Transported       0\n",
      "dtype: int64\n",
      "Valores nulos en el conjunto de prueba después de la imputación:\n",
      "PassengerId       0\n",
      "HomePlanet       87\n",
      "CryoSleep        93\n",
      "Cabin           100\n",
      "Destination      92\n",
      "Age               0\n",
      "VIP              93\n",
      "RoomService       0\n",
      "FoodCourt         0\n",
      "ShoppingMall      0\n",
      "Spa               0\n",
      "VRDeck            0\n",
      "Name             94\n",
      "dtype: int64\n"
     ]
    }
   ],
   "source": [
    "# Identificar columnas numéricas\n",
    "numerical_cols = df_train.select_dtypes(include=['float64', 'int64']).columns\n",
    "\n",
    "# Crear el imputador para la media\n",
    "imputer = SimpleImputer(strategy='mean')\n",
    "\n",
    "# Imputar valores faltantes en el conjunto de entrenamiento\n",
    "df_train[numerical_cols] = imputer.fit_transform(df_train[numerical_cols])\n",
    "\n",
    "# Imputar valores faltantes en el conjunto de prueba usando el mismo imputador\n",
    "df_test[numerical_cols] = imputer.transform(df_test[numerical_cols])\n",
    "\n",
    "# Verificar el resultado\n",
    "print(\"Valores nulos en el conjunto de entrenamiento después de la imputación:\")\n",
    "print(df_train.isnull().sum())\n",
    "\n",
    "print(\"Valores nulos en el conjunto de prueba después de la imputación:\")\n",
    "print(df_test.isnull().sum())\n"
   ]
  },
  {
   "cell_type": "markdown",
   "metadata": {},
   "source": [
    "Ahora imputación de la variables categoricas"
   ]
  },
  {
   "cell_type": "code",
   "execution_count": 23,
   "metadata": {},
   "outputs": [
    {
     "name": "stdout",
     "output_type": "stream",
     "text": [
      "Valores nulos en el conjunto de entrenamiento después de la imputación:\n",
      "PassengerId     0\n",
      "HomePlanet      0\n",
      "CryoSleep       0\n",
      "Cabin           0\n",
      "Destination     0\n",
      "Age             0\n",
      "VIP             0\n",
      "RoomService     0\n",
      "FoodCourt       0\n",
      "ShoppingMall    0\n",
      "Spa             0\n",
      "VRDeck          0\n",
      "Name            0\n",
      "Transported     0\n",
      "dtype: int64\n",
      "Valores nulos en el conjunto de prueba después de la imputación:\n",
      "PassengerId     0\n",
      "HomePlanet      0\n",
      "CryoSleep       0\n",
      "Cabin           0\n",
      "Destination     0\n",
      "Age             0\n",
      "VIP             0\n",
      "RoomService     0\n",
      "FoodCourt       0\n",
      "ShoppingMall    0\n",
      "Spa             0\n",
      "VRDeck          0\n",
      "Name            0\n",
      "dtype: int64\n"
     ]
    }
   ],
   "source": [
    "# Identificar columnas categóricas\n",
    "categorical_cols = df_train.select_dtypes(include=['object', 'category']).columns\n",
    "\n",
    "# Crear el imputador para la moda\n",
    "imputer = SimpleImputer(strategy='most_frequent')\n",
    "\n",
    "# Imputar valores faltantes en el conjunto de entrenamiento\n",
    "df_train[categorical_cols] = imputer.fit_transform(df_train[categorical_cols])\n",
    "\n",
    "# Imputar valores faltantes en el conjunto de prueba usando el mismo imputador\n",
    "df_test[categorical_cols] = imputer.transform(df_test[categorical_cols])\n",
    "\n",
    "# Verificar el resultado\n",
    "print(\"Valores nulos en el conjunto de entrenamiento después de la imputación:\")\n",
    "print(df_train.isnull().sum())\n",
    "\n",
    "print(\"Valores nulos en el conjunto de prueba después de la imputación:\")\n",
    "print(df_test.isnull().sum())"
   ]
  },
  {
   "cell_type": "markdown",
   "metadata": {},
   "source": [
    "#### Buscar valores extraños. Para ello, ver los valores únicos en cada feature"
   ]
  },
  {
   "cell_type": "code",
   "execution_count": 27,
   "metadata": {},
   "outputs": [
    {
     "name": "stdout",
     "output_type": "stream",
     "text": [
      "Características y valores únicos en el conjunto de entrenamiento:\n",
      "        features  n_values     type\n",
      "0    PassengerId      8693   object\n",
      "1     HomePlanet         3   object\n",
      "2      CryoSleep         2   object\n",
      "3          Cabin      6560   object\n",
      "4    Destination         3   object\n",
      "5            Age        81  float64\n",
      "6            VIP         2   object\n",
      "7    RoomService      1274  float64\n",
      "8      FoodCourt      1508  float64\n",
      "9   ShoppingMall      1116  float64\n",
      "10           Spa      1328  float64\n",
      "11        VRDeck      1307  float64\n",
      "12          Name      8473   object\n",
      "13   Transported         2     bool\n",
      "\n",
      "Características y valores únicos en el conjunto de prueba:\n",
      "        features  n_values     type\n",
      "0    PassengerId      4277   object\n",
      "1     HomePlanet         3   object\n",
      "2      CryoSleep         2   object\n",
      "3          Cabin      3266   object\n",
      "4    Destination         3   object\n",
      "5            Age        80  float64\n",
      "6            VIP         2   object\n",
      "7    RoomService       843  float64\n",
      "8      FoodCourt       903  float64\n",
      "9   ShoppingMall       716  float64\n",
      "10           Spa       834  float64\n",
      "11        VRDeck       797  float64\n",
      "12          Name      4177   object\n"
     ]
    }
   ],
   "source": [
    "# Función para crear el DataFrame de características y valores únicos\n",
    "def create_features_values_df(df):\n",
    "    # Contar el número de valores únicos en cada columna\n",
    "    n_values = df.nunique()\n",
    "    \n",
    "    # Obtener el tipo de cada columna\n",
    "    types = df.dtypes\n",
    "    \n",
    "    # Crear un nuevo DataFrame con las columnas 'features', 'n_values' y 'type'\n",
    "    df_features_values = pd.DataFrame({\n",
    "        'features': n_values.index,\n",
    "        'n_values': n_values.values,\n",
    "        'type': types.values\n",
    "    })\n",
    "    \n",
    "    return df_features_values\n",
    "\n",
    "# Para el dataset train\n",
    "df_features_train = create_features_values_df(df_train)\n",
    "print(\"Características y valores únicos en el conjunto de entrenamiento:\")\n",
    "print(df_features_train)\n",
    "\n",
    "# Para el dataset test\n",
    "df_features_test = create_features_values_df(df_test)\n",
    "print(\"\\nCaracterísticas y valores únicos en el conjunto de prueba:\")\n",
    "print(df_features_test)\n",
    "\n"
   ]
  },
  {
   "cell_type": "markdown",
   "metadata": {},
   "source": [
    "## Eliminar las columnas que tienen un alto valor de valores únicos que pueden indicar que son variables no muy informativas para un proceso de predicción"
   ]
  },
  {
   "cell_type": "code",
   "execution_count": 30,
   "metadata": {},
   "outputs": [],
   "source": [
    "# Eliminar columnas del conjunto de entrenamiento y de prueba\n",
    "df_train_clean = df_train.drop(columns=['Name', 'Cabin'])\n",
    "df_test_clean = df_test.drop(columns=['Name', 'Cabin'])\n"
   ]
  },
  {
   "cell_type": "markdown",
   "metadata": {},
   "source": [
    "## Identificar la variable objetivo\n",
    "En este caso, la variable objetivo (el valor que deseo predecir) es Transported, que es una variable binaria en el dataset de Spaceship Titanic. "
   ]
  },
  {
   "cell_type": "markdown",
   "metadata": {},
   "source": [
    "## Separar las características y la variable objetivo en el dataset de entrenamiento train.csv\n",
    "Ahora separo las características (X) de la variable objetivo (y) en el conjunto de entrenamiento (train).\n",
    "\n",
    "X_train contendrá todas las características excepto la columna Transported.\n",
    "y_train contendrá solo la columna Transported"
   ]
  },
  {
   "cell_type": "code",
   "execution_count": 47,
   "metadata": {},
   "outputs": [
    {
     "data": {
      "text/html": [
       "<div>\n",
       "<style scoped>\n",
       "    .dataframe tbody tr th:only-of-type {\n",
       "        vertical-align: middle;\n",
       "    }\n",
       "\n",
       "    .dataframe tbody tr th {\n",
       "        vertical-align: top;\n",
       "    }\n",
       "\n",
       "    .dataframe thead th {\n",
       "        text-align: right;\n",
       "    }\n",
       "</style>\n",
       "<table border=\"1\" class=\"dataframe\">\n",
       "  <thead>\n",
       "    <tr style=\"text-align: right;\">\n",
       "      <th></th>\n",
       "      <th>PassengerId</th>\n",
       "      <th>HomePlanet</th>\n",
       "      <th>CryoSleep</th>\n",
       "      <th>Destination</th>\n",
       "      <th>Age</th>\n",
       "      <th>VIP</th>\n",
       "      <th>RoomService</th>\n",
       "      <th>FoodCourt</th>\n",
       "      <th>ShoppingMall</th>\n",
       "      <th>Spa</th>\n",
       "      <th>VRDeck</th>\n",
       "    </tr>\n",
       "  </thead>\n",
       "  <tbody>\n",
       "    <tr>\n",
       "      <th>0</th>\n",
       "      <td>0001_01</td>\n",
       "      <td>Europa</td>\n",
       "      <td>False</td>\n",
       "      <td>TRAPPIST-1e</td>\n",
       "      <td>39.0</td>\n",
       "      <td>False</td>\n",
       "      <td>0.0</td>\n",
       "      <td>0.0</td>\n",
       "      <td>0.0</td>\n",
       "      <td>0.0</td>\n",
       "      <td>0.0</td>\n",
       "    </tr>\n",
       "    <tr>\n",
       "      <th>1</th>\n",
       "      <td>0002_01</td>\n",
       "      <td>Earth</td>\n",
       "      <td>False</td>\n",
       "      <td>TRAPPIST-1e</td>\n",
       "      <td>24.0</td>\n",
       "      <td>False</td>\n",
       "      <td>109.0</td>\n",
       "      <td>9.0</td>\n",
       "      <td>25.0</td>\n",
       "      <td>549.0</td>\n",
       "      <td>44.0</td>\n",
       "    </tr>\n",
       "    <tr>\n",
       "      <th>2</th>\n",
       "      <td>0003_01</td>\n",
       "      <td>Europa</td>\n",
       "      <td>False</td>\n",
       "      <td>TRAPPIST-1e</td>\n",
       "      <td>58.0</td>\n",
       "      <td>True</td>\n",
       "      <td>43.0</td>\n",
       "      <td>3576.0</td>\n",
       "      <td>0.0</td>\n",
       "      <td>6715.0</td>\n",
       "      <td>49.0</td>\n",
       "    </tr>\n",
       "    <tr>\n",
       "      <th>3</th>\n",
       "      <td>0003_02</td>\n",
       "      <td>Europa</td>\n",
       "      <td>False</td>\n",
       "      <td>TRAPPIST-1e</td>\n",
       "      <td>33.0</td>\n",
       "      <td>False</td>\n",
       "      <td>0.0</td>\n",
       "      <td>1283.0</td>\n",
       "      <td>371.0</td>\n",
       "      <td>3329.0</td>\n",
       "      <td>193.0</td>\n",
       "    </tr>\n",
       "    <tr>\n",
       "      <th>4</th>\n",
       "      <td>0004_01</td>\n",
       "      <td>Earth</td>\n",
       "      <td>False</td>\n",
       "      <td>TRAPPIST-1e</td>\n",
       "      <td>16.0</td>\n",
       "      <td>False</td>\n",
       "      <td>303.0</td>\n",
       "      <td>70.0</td>\n",
       "      <td>151.0</td>\n",
       "      <td>565.0</td>\n",
       "      <td>2.0</td>\n",
       "    </tr>\n",
       "  </tbody>\n",
       "</table>\n",
       "</div>"
      ],
      "text/plain": [
       "  PassengerId HomePlanet CryoSleep  Destination   Age    VIP  RoomService  \\\n",
       "0     0001_01     Europa     False  TRAPPIST-1e  39.0  False          0.0   \n",
       "1     0002_01      Earth     False  TRAPPIST-1e  24.0  False        109.0   \n",
       "2     0003_01     Europa     False  TRAPPIST-1e  58.0   True         43.0   \n",
       "3     0003_02     Europa     False  TRAPPIST-1e  33.0  False          0.0   \n",
       "4     0004_01      Earth     False  TRAPPIST-1e  16.0  False        303.0   \n",
       "\n",
       "   FoodCourt  ShoppingMall     Spa  VRDeck  \n",
       "0        0.0           0.0     0.0     0.0  \n",
       "1        9.0          25.0   549.0    44.0  \n",
       "2     3576.0           0.0  6715.0    49.0  \n",
       "3     1283.0         371.0  3329.0   193.0  \n",
       "4       70.0         151.0   565.0     2.0  "
      ]
     },
     "execution_count": 47,
     "metadata": {},
     "output_type": "execute_result"
    }
   ],
   "source": [
    "# Separar la variable objetivo 'Transported' de las características\n",
    "X_train = df_train_clean.drop(columns=['Transported'])  # Características del conjunto de entrenamiento\n",
    "y_train = df_train_clean['Transported']  # Variable objetivo\n",
    "\n",
    "# Asegurarte de que la carpeta 'data' exista\n",
    "if not os.path.exists('./data'):\n",
    "    os.makedirs('./data')\n",
    "\n",
    "# Guardar X_train y y_train como archivos CSV\n",
    "X_train.to_csv('./data/X_train.csv', index=False)\n",
    "y_train.to_csv('./data/y_train.csv', index=False)\n",
    "\n",
    "X_train.head()\n"
   ]
  },
  {
   "cell_type": "markdown",
   "metadata": {},
   "source": [
    "## Manejar el conjunto de prueba (test.csv)\n",
    "El conjunto de prueba normalmente no contiene la variable objetivo, ya que su propósito es evaluar el rendimiento del modelo sobre datos no vistos. Por lo tanto, simplemente puedes usar todo el dataset de prueba (df_test) como las características que pasarás al modelo."
   ]
  },
  {
   "cell_type": "code",
   "execution_count": 49,
   "metadata": {},
   "outputs": [],
   "source": [
    "# El conjunto de prueba solo contiene características (X_test)\n",
    "X_test = df_test.copy()\n",
    "\n",
    "# Asegurarte de que la carpeta 'data' exista\n",
    "if not os.path.exists('./Data/'):\n",
    "    os.makedirs('./Data/')\n",
    "\n",
    "# Guardar X_test como un archivo CSV\n",
    "X_test.to_csv('./Data/X_test.csv', index=False)"
   ]
  }
 ],
 "metadata": {
  "kernelspec": {
   "display_name": "myenv",
   "language": "python",
   "name": "python3"
  },
  "language_info": {
   "codemirror_mode": {
    "name": "ipython",
    "version": 3
   },
   "file_extension": ".py",
   "mimetype": "text/x-python",
   "name": "python",
   "nbconvert_exporter": "python",
   "pygments_lexer": "ipython3",
   "version": "3.12.4"
  }
 },
 "nbformat": 4,
 "nbformat_minor": 2
}
